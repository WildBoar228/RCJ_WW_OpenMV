{
 "cells": [
  {
   "cell_type": "markdown",
   "metadata": {},
   "source": [
    "# На вход threshold, на выход вероятности классов"
   ]
  },
  {
   "cell_type": "code",
   "execution_count": 181,
   "metadata": {},
   "outputs": [],
   "source": [
    "import os\n",
    "import pandas as pd\n",
    "import torch\n",
    "import torch.nn as nn\n",
    "import torch.optim as optim\n",
    "from torch.utils.data import DataLoader, Dataset, random_split\n",
    "from torchvision import transforms\n",
    "import matplotlib.pyplot as plt\n",
    "from PIL import Image\n",
    "from tqdm import tqdm\n",
    "import torchsummary\n",
    "import numpy as np"
   ]
  },
  {
   "cell_type": "code",
   "execution_count": 182,
   "metadata": {},
   "outputs": [
    {
     "data": {
      "text/plain": [
       "False"
      ]
     },
     "execution_count": 182,
     "metadata": {},
     "output_type": "execute_result"
    }
   ],
   "source": [
    "torch.cuda.is_available()"
   ]
  },
  {
   "cell_type": "code",
   "execution_count": 246,
   "metadata": {},
   "outputs": [],
   "source": [
    "class ThresholdModel(nn.Module):\n",
    "    def __init__(self, num_classes):\n",
    "        super().__init__()\n",
    "        self.lin_layers = nn.Sequential(\n",
    "            nn.Linear(6, 32),\n",
    "            nn.ReLU(),\n",
    "            nn.Linear(32, num_classes),\n",
    "            nn.Softmax()\n",
    "        )\n",
    "\n",
    "    def forward(self, x):\n",
    "        device = torch.device('cuda' if torch.cuda.is_available() else 'cpu')\n",
    "        x = self.lin_layers(x)\n",
    "\n",
    "        return x"
   ]
  },
  {
   "cell_type": "code",
   "execution_count": 257,
   "metadata": {},
   "outputs": [],
   "source": [
    "from IPython.display import clear_output\n",
    "\n",
    "\n",
    "def run_single(model, features, answer, criterion, optimizer=None, device='cpu', train=True):\n",
    "    if train:\n",
    "        model.train()\n",
    "    else:\n",
    "        model.eval()\n",
    "\n",
    "    optimizer.zero_grad() if train else None\n",
    "\n",
    "    output = model(features)\n",
    "    loss = criterion(output, answer)\n",
    "\n",
    "    if train:\n",
    "        loss.backward()\n",
    "        optimizer.step()\n",
    "\n",
    "    return (loss.item(), output)\n",
    "\n",
    "\n",
    "def plot_losses(train_losses, valid_losses):\n",
    "    plt.figure(figsize=(10, 5))\n",
    "    plt.plot(train_losses, label='Train Loss')\n",
    "    plt.plot(valid_losses, label='Validation Loss')\n",
    "    plt.xlabel('Epochs')\n",
    "    plt.ylabel('Loss')\n",
    "    plt.legend()\n",
    "    plt.grid(True)\n",
    "    plt.title('Training and Validation Loss Over Epochs')\n",
    "    plt.show()"
   ]
  },
  {
   "cell_type": "code",
   "execution_count": 258,
   "metadata": {},
   "outputs": [
    {
     "data": {
      "text/plain": [
       "device(type='cpu')"
      ]
     },
     "execution_count": 258,
     "metadata": {},
     "output_type": "execute_result"
    }
   ],
   "source": [
    "device = torch.device('cuda' if torch.cuda.is_available() else 'cpu')\n",
    "device"
   ]
  },
  {
   "cell_type": "code",
   "execution_count": 285,
   "metadata": {},
   "outputs": [
    {
     "name": "stdout",
     "output_type": "stream",
     "text": [
      "----------------------------------------------------------------\n",
      "        Layer (type)               Output Shape         Param #\n",
      "================================================================\n",
      "            Linear-1                   [-1, 32]             224\n",
      "              ReLU-2                   [-1, 32]               0\n",
      "            Linear-3                    [-1, 2]              66\n",
      "           Softmax-4                    [-1, 2]               0\n",
      "================================================================\n",
      "Total params: 290\n",
      "Trainable params: 290\n",
      "Non-trainable params: 0\n",
      "----------------------------------------------------------------\n",
      "Input size (MB): 0.00\n",
      "Forward/backward pass size (MB): 0.00\n",
      "Params size (MB): 0.00\n",
      "Estimated Total Size (MB): 0.00\n",
      "----------------------------------------------------------------\n"
     ]
    }
   ],
   "source": [
    "num_classes = 2\n",
    "model = ThresholdModel(num_classes).to(device)\n",
    "torchsummary.summary(model, (6,))\n",
    "criterion = nn.CrossEntropyLoss()\n",
    "optimizer = optim.Adam(model.parameters(), lr=0.001)"
   ]
  },
  {
   "cell_type": "code",
   "execution_count": 286,
   "metadata": {},
   "outputs": [],
   "source": [
    "dataset = []\n",
    "\n",
    "with open(\"color_data.txt\") as file:\n",
    "    for line in file:\n",
    "        features = torch.tensor(list(map(int, line.split()[:6])), dtype=torch.float32)\n",
    "        answer = torch.tensor(int(line.split()[6]))\n",
    "        dataset.append((features, answer))\n"
   ]
  },
  {
   "cell_type": "code",
   "execution_count": 287,
   "metadata": {},
   "outputs": [
    {
     "data": {
      "text/plain": [
       "1"
      ]
     },
     "execution_count": 287,
     "metadata": {},
     "output_type": "execute_result"
    }
   ],
   "source": [
    "int(dataset[0][1])"
   ]
  },
  {
   "cell_type": "code",
   "execution_count": 281,
   "metadata": {},
   "outputs": [
    {
     "name": "stderr",
     "output_type": "stream",
     "text": [
      "C:\\Users\\Игорь\\AppData\\Local\\Temp\\ipykernel_7548\\1976583034.py:9: UserWarning: To copy construct from a tensor, it is recommended to use sourceTensor.clone().detach() or sourceTensor.clone().detach().requires_grad_(True), rather than torch.tensor(sourceTensor).\n",
      "  newx = torch.tensor(x[0])\n",
      "C:\\Users\\Игорь\\AppData\\Local\\Temp\\ipykernel_7548\\1976583034.py:13: UserWarning: To copy construct from a tensor, it is recommended to use sourceTensor.clone().detach() or sourceTensor.clone().detach().requires_grad_(True), rather than torch.tensor(sourceTensor).\n",
      "  newx = torch.tensor(x[0])\n"
     ]
    }
   ],
   "source": [
    "step = 1\n",
    "length = len(dataset)\n",
    "\n",
    "for i in range(length):\n",
    "    x = dataset[i]\n",
    "    L1, L2, A1, A2, B1, B2 = x[0]\n",
    "    \n",
    "    for L in range(int(L1) + step, int(L2), step):\n",
    "        newx = torch.tensor(x[0])\n",
    "        newx[1] = L\n",
    "        dataset.append((newx, x[1]))\n",
    "\n",
    "        newx = torch.tensor(x[0])\n",
    "        newx[0] = L\n",
    "        dataset.append((newx, x[1]))\n",
    "\n",
    "    for A in range(int(A1) + step, int(A2), step):\n",
    "        newx = x[0]\n",
    "        newx[3] = A\n",
    "        dataset.append((newx, x[1]))\n",
    "\n",
    "        newx = x[0]\n",
    "        newx[2] = L\n",
    "        dataset.append((newx, x[1]))\n",
    "\n",
    "    for B in range(int(B1) + step, int(B2), step):\n",
    "        newx = x[0]\n",
    "        newx[5] = B\n",
    "        dataset.append((newx, x[1]))\n",
    "\n",
    "        newx = x[0]\n",
    "        newx[4] = B\n",
    "        dataset.append((newx, x[1]))"
   ]
  },
  {
   "cell_type": "code",
   "execution_count": 288,
   "metadata": {},
   "outputs": [
    {
     "data": {
      "text/plain": [
       "2"
      ]
     },
     "execution_count": 288,
     "metadata": {},
     "output_type": "execute_result"
    }
   ],
   "source": [
    "len(dataset)"
   ]
  },
  {
   "cell_type": "code",
   "execution_count": 289,
   "metadata": {},
   "outputs": [
    {
     "name": "stdout",
     "output_type": "stream",
     "text": [
      "0.31326165795326233\n",
      "1.31326162815094\n"
     ]
    }
   ],
   "source": [
    "for i in range(5):\n",
    "    for i in range(len(dataset)):\n",
    "        loss, answer = run_single(model, dataset[i][0], dataset[i][1], criterion=criterion, optimizer=optimizer, device=device, train=True)\n",
    "        print(loss)"
   ]
  },
  {
   "cell_type": "code",
   "execution_count": 290,
   "metadata": {},
   "outputs": [
    {
     "name": "stdout",
     "output_type": "stream",
     "text": [
      "1 1 tensor([2.3341e-09, 1.0000e+00], grad_fn=<SoftmaxBackward0>)\n",
      "1 0 tensor([3.2242e-11, 1.0000e+00], grad_fn=<SoftmaxBackward0>)\n"
     ]
    }
   ],
   "source": [
    "for i in range(len(dataset)):\n",
    "    # print(dataset[i][0], int(dataset[i][1]))\n",
    "    loss, pred = run_single(model, dataset[i][0], dataset[i][1], criterion=criterion, optimizer=optimizer, device=device, train=False)\n",
    "    print(int(torch.argmax(pred)), int(dataset[i][1]), pred)"
   ]
  }
 ],
 "metadata": {
  "kernelspec": {
   "display_name": "Python 3",
   "language": "python",
   "name": "python3"
  },
  "language_info": {
   "codemirror_mode": {
    "name": "ipython",
    "version": 3
   },
   "file_extension": ".py",
   "mimetype": "text/x-python",
   "name": "python",
   "nbconvert_exporter": "python",
   "pygments_lexer": "ipython3",
   "version": "3.12.2"
  }
 },
 "nbformat": 4,
 "nbformat_minor": 2
}
